{
 "cells": [
  {
   "cell_type": "markdown",
   "metadata": {},
   "source": [
    "# Data Modeling with Appache Cassandra\n",
    "This project will do the following:\n",
    "1. Set up a keyspace\n",
    "2. Extact data from CSV files within a directory\n",
    "3. Transform and load the data into three tables,\n",
    "   which are designed upon final queries\n",
    "   * The final queries are designed upon the following three questions:\n",
    "     1. Give me the artist, song title and song's length in the music app history\n",
    "        that was heard during  sessionId = 338, and itemInSession  = 4\n",
    "        \n",
    "     2. Give me only the following: name of artist, song (sorted by itemInSession)\n",
    "        and user (first and last name) for userid = 10, sessionid = 182\n",
    "        \n",
    "     3. Give me every user name (first and last) in my music app history\n",
    "        who listened to the song 'All Hands Against His Own'"
   ]
  },
  {
   "cell_type": "markdown",
   "metadata": {},
   "source": [
    "### Import relevant Python packages "
   ]
  },
  {
   "cell_type": "code",
   "execution_count": null,
   "metadata": {},
   "outputs": [],
   "source": [
    "import pandas as pd\n",
    "import cassandra\n",
    "import re\n",
    "import os\n",
    "import glob\n",
    "import numpy as np\n",
    "import json\n",
    "import csv"
   ]
  },
  {
   "cell_type": "markdown",
   "metadata": {},
   "source": [
    "### Create a list of filepaths, from which to process CSV data files"
   ]
  },
  {
   "cell_type": "code",
   "execution_count": null,
   "metadata": {},
   "outputs": [],
   "source": [
    "# Define filepath, in which the CSV files are located\n",
    "print(os.getcwd())\n",
    "filepath = os.getcwd() + '/event_data'\n",
    "\n",
    "# Get a list of filepaths\n",
    "for root, dirs, files in os.walk(filepath):\n",
    "    file_path_list = glob.glob(os.path.join(root,'*'))\n",
    "    print(file_path_list)"
   ]
  },
  {
   "cell_type": "markdown",
   "metadata": {},
   "source": [
    "### Process the files to create a new CSV file, to be used for Apache Casssandra tables"
   ]
  },
  {
   "cell_type": "code",
   "execution_count": null,
   "metadata": {},
   "outputs": [],
   "source": [
    "# create an empty list of rows\n",
    "full_data_rows_list = [] \n",
    "    \n",
    "# for every filepath in the filepath list:\n",
    "for f in file_path_list:\n",
    "\n",
    "# read csv file \n",
    "    with open(f, 'r', encoding = 'utf8', newline='') as csvfile: \n",
    "        # creating a csv reader object \n",
    "        csvreader = csv.reader(csvfile) \n",
    "        next(csvreader)\n",
    "        \n",
    " # extract each data row one by one, and append it to the list\n",
    "        for line in csvreader:\n",
    "            #print(line)\n",
    "            full_data_rows_list.append(line) \n",
    "            \n",
    "# uncomment the code below for total number of rows \n",
    "#print(len(full_data_rows_list))\n",
    "# uncomment the code below for entire rows\n",
    "#print(full_data_rows_list)\n",
    "\n",
    "# create a smaller event data csv file called event_datafile_new.csv that will be used to insert data into \\\n",
    "# the Apache Cassandra tables\n",
    "csv.register_dialect('myDialect', quoting=csv.QUOTE_ALL, skipinitialspace=True)\n",
    "\n",
    "with open('event_datafile_new.csv', 'w', encoding = 'utf8', newline='') as f:\n",
    "    writer = csv.writer(f, dialect='myDialect')\n",
    "    writer.writerow(['artist','firstName','gender','itemInSession','lastName','length',\\\n",
    "                'level','location','sessionId','song','userId'])\n",
    "    for row in full_data_rows_list:\n",
    "        if (row[0] == ''):\n",
    "            continue\n",
    "        writer.writerow((row[0], row[2], row[3], row[4], row[5], row[6], row[7], row[8], row[12], row[13], row[16]))\n"
   ]
  },
  {
   "cell_type": "code",
   "execution_count": null,
   "metadata": {},
   "outputs": [],
   "source": [
    "# check the number of rows in the csv file\n",
    "with open('event_datafile_new.csv', 'r', encoding = 'utf8') as f:\n",
    "    print(sum(1 for line in f))"
   ]
  },
  {
   "cell_type": "markdown",
   "metadata": {},
   "source": [
    "### Create a cluster"
   ]
  },
  {
   "cell_type": "code",
   "execution_count": null,
   "metadata": {},
   "outputs": [],
   "source": [
    "# Connect to a local Cassandra instance (127.0.0.1)\n",
    "from cassandra.cluster import Cluster\n",
    "\n",
    "cluster = Cluster(['127.0.0.1'])\n",
    "session = cluster.connect()"
   ]
  },
  {
   "cell_type": "code",
   "execution_count": null,
   "metadata": {},
   "outputs": [],
   "source": [
    "# Connect to a local Cassandra instance (127.0.0.1)\n",
    "from cassandra.cluster import Cluster\n",
    "\n",
    "cluster = Cluster(['127.0.0.1'])\n",
    "session = cluster.connect()"
   ]
  },
  {
   "cell_type": "markdown",
   "metadata": {},
   "source": [
    "### Create keyspace"
   ]
  },
  {
   "cell_type": "code",
   "execution_count": null,
   "metadata": {
    "scrolled": true
   },
   "outputs": [],
   "source": [
    "session.execute('DROP KEYSPACE IF EXISTS sparkifyks')\n",
    "session.execute('''CREATE KEYSPACE IF NOT EXISTS sparkifyks\n",
    "                WITH REPLICATION = {'class':'SimpleStrategy', 'replication_factor':1}''')"
   ]
  },
  {
   "cell_type": "markdown",
   "metadata": {},
   "source": [
    "### Set keyspace"
   ]
  },
  {
   "cell_type": "code",
   "execution_count": null,
   "metadata": {},
   "outputs": [],
   "source": [
    "session.execute('USE sparkifyks')\n",
    "# or session.set_keyspace('sparkifyks')"
   ]
  },
  {
   "cell_type": "markdown",
   "metadata": {},
   "source": [
    "### Create tables according to the following queries:\n",
    "1. Give me the artist, song title and song's length in the music app history that was heard during  sessionId = 338, and itemInSession  = 4\n",
    "2. Give me only the following: name of artist, song (sorted by itemInSession) and user (first and last name) for userid = 10, sessionid = 182\n",
    "3. Give me every user name (first and last) in my music app history who listened to the song 'All Hands Against His Own'"
   ]
  },
  {
   "cell_type": "markdown",
   "metadata": {},
   "source": [
    "### Create the first table, and run the first query"
   ]
  },
  {
   "cell_type": "code",
   "execution_count": null,
   "metadata": {},
   "outputs": [],
   "source": [
    "# Create table\n",
    "# Search conditions (sessionID and itemInSession) are used as primary key for speed\n",
    "session.execute(\"DROP TABLE IF EXISTS info_session_music\")\n",
    "session.execute(\"\"\"CREATE TABLE IF NOT EXISTS info_session_music\n",
    "                (PRIMARY KEY (session_id, item_in_session),\n",
    "                 session_id INT,\n",
    "                 item_in_session INT,\n",
    "                 artist TEXT,\n",
    "                 song TEXT,\n",
    "                 song_length FLOAT)\"\"\")\n",
    "\n",
    "# ETL from the file into the table\n",
    "file = 'event_datafile_new.csv'\n",
    "\n",
    "with open(file, encoding = 'utf8') as f:\n",
    "    csvreader = csv.reader(f)\n",
    "    next(csvreader) # skip header\n",
    "    for line in csvreader:\n",
    "        query1 = \"INSERT INTO info_session_music (session_id, item_in_session, artist, song, song_length)\"\n",
    "        query1 = query1 + \"VALUES (%s, %s, %s, %s, %s)\"\n",
    "        session.execute(query1, (int(line[8]), int(line[3]), line[0], line[9], float(line[5])))\n",
    "\n",
    "# Run the query\n",
    "rows = session.execute(\"\"\"Select artist, song, song_length\n",
    "                       FROM info_session_music\n",
    "                       WHERE session_id = 338\n",
    "                       AND item_in_session = 4\"\"\")\n",
    "\n",
    "for row in rows:\n",
    "    print('Artist:', row.artist, '\\n',\n",
    "          'Song:', row.song, '\\n',\n",
    "          'Song Length:', row.song_length, '\\n')"
   ]
  },
  {
   "cell_type": "markdown",
   "metadata": {},
   "source": [
    "### Create the second table, and run the second query"
   ]
  },
  {
   "cell_type": "code",
   "execution_count": null,
   "metadata": {},
   "outputs": [],
   "source": [
    "# Create table\n",
    "# Search conditions (user_id, session_id) are used as partition key for speed\n",
    "session.execute(\"DROP TABLE IF EXISTS info_user_session_music\")\n",
    "session.execute(\"\"\"CREATE TABLE IF NOT EXISTS info_user_session_music\n",
    "                (PRIMARY KEY ((user_id, session_id), item_in_session),\n",
    "                 user_id INT,\n",
    "                 session_id INT,\n",
    "                 item_in_session INT,\n",
    "                 user_first_name TEXT,\n",
    "                 user_last_name TEXT,\n",
    "                 song TEXT,\n",
    "                 artist TEXT)\"\"\")\n",
    "\n",
    "# ETL from the file into the table\n",
    "file = 'event_datafile_new.csv'\n",
    "\n",
    "with open(file, encoding = 'utf8') as f:\n",
    "    csvreader = csv.reader(f)\n",
    "    next(csvreader) # skip header\n",
    "    for line in csvreader:\n",
    "        query2 = \"INSERT INTO info_user_session_music (user_id, session_id, item_in_session, \\\n",
    "                                                       user_first_name, user_last_name, song, artist)\"\n",
    "        query2 = query2 + \"VALUES (%s, %s, %s, %s, %s, %s, %s)\"\n",
    "        session.execute(query2, (int(line[10]), int(line[8]), int(line[3]), line[1], line[4], line[9], line[0]))\n",
    "\n",
    "# Run the query\n",
    "rows = session.execute(\"\"\"Select artist, song, user_first_name, user_last_name\n",
    "                       FROM info_user_session_music\n",
    "                       WHERE user_id = 10\n",
    "                       AND session_id = 182\n",
    "                       ORDER BY item_in_session\"\"\")\n",
    "\n",
    "for row in rows:\n",
    "    print('Artist:', row.artist, '\\n',\n",
    "          'Song:', row.song, '\\n',\n",
    "          'User First Name:', row.user_first_name, '\\n',\n",
    "          'User Last Name:', row.user_last_name, '\\n')"
   ]
  },
  {
   "cell_type": "markdown",
   "metadata": {},
   "source": [
    "### Create the third table, and run the third query"
   ]
  },
  {
   "cell_type": "code",
   "execution_count": null,
   "metadata": {},
   "outputs": [],
   "source": [
    "# Create table\n",
    "# Search conditions (song and user_id) are used as primary key for speed\n",
    "session.execute(\"DROP TABLE IF EXISTS info_song_user\")\n",
    "session.execute(\"\"\"CREATE TABLE IF NOT EXISTS info_song_user\n",
    "                (PRIMARY KEY (song, user_id),\n",
    "                 song TEXT,\n",
    "                 user_id INT,\n",
    "                 user_first_name TEXT,\n",
    "                 user_last_name TEXT)\"\"\")\n",
    "\n",
    "# ETL from the file into the table\n",
    "file = 'event_datafile_new.csv'\n",
    "\n",
    "with open(file, encoding = 'utf8') as f:\n",
    "    csvreader = csv.reader(f)\n",
    "    next(csvreader) # skip header\n",
    "    for line in csvreader:\n",
    "        query3 = \"INSERT INTO info_song_user (song, user_id, user_first_name, user_last_name)\"\n",
    "        query3 = query3 + \"VALUES (%s, %s, %s, %s)\"\n",
    "        session.execute(query3, (line[9], int(line[10]), line[1], line[4]))\n",
    "        \n",
    "# Run the query\n",
    "rows = session.execute(\"\"\"SELECT user_first_name, user_last_name, song\n",
    "                       FROM info_song_user\n",
    "                       WHERE song = 'All Hands Against His Own'\"\"\") \n",
    "\n",
    "for row in rows:\n",
    "    print('User First Name:', row.user_first_name, '\\n',\n",
    "          'User Last Name:', row.user_last_name, '\\n',\n",
    "          'Song:', row.song, '\\n')"
   ]
  },
  {
   "cell_type": "markdown",
   "metadata": {},
   "source": [
    "### Drop the tables before closing the session"
   ]
  },
  {
   "cell_type": "code",
   "execution_count": null,
   "metadata": {},
   "outputs": [],
   "source": [
    "session.execute('DROP TABLE info_session_music')\n",
    "session.execute('DROP TABLE info_user_session_music')\n",
    "session.execute('DROP TABLE info_song_user')"
   ]
  },
  {
   "cell_type": "markdown",
   "metadata": {},
   "source": [
    "### Close the session and the cluster connection¶"
   ]
  },
  {
   "cell_type": "code",
   "execution_count": null,
   "metadata": {},
   "outputs": [],
   "source": [
    "session.shutdown()\n",
    "cluster.shutdown()"
   ]
  }
 ],
 "metadata": {
  "kernelspec": {
   "display_name": "Python 3",
   "language": "python",
   "name": "python3"
  },
  "language_info": {
   "codemirror_mode": {
    "name": "ipython",
    "version": 3
   },
   "file_extension": ".py",
   "mimetype": "text/x-python",
   "name": "python",
   "nbconvert_exporter": "python",
   "pygments_lexer": "ipython3",
   "version": "3.7.6"
  }
 },
 "nbformat": 4,
 "nbformat_minor": 4
}
